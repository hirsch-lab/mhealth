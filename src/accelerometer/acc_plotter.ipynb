{
  "cells": [
    {
      "cell_type": "markdown",
      "source": [
        "## Acc Plotter\n",
        "Plot date_time vs Sensor data (AX, AY, AZ)"
      ],
      "metadata": {}
    },
    {
      "cell_type": "code",
      "source": [
        "# Standard libraries\n",
        "import os\n",
        "import sys\n",
        "from pathlib import Path\n",
        "import datetime as dt\n",
        "# from dfply import * # piping\n",
        "import pprint\n",
        "\n",
        "# DS\n",
        "import pandas as pd\n",
        "import numpy as np\n",
        "\n",
        "# Plotly\n",
        "import plotly.express as px  #\n",
        "import plotly.graph_objects as go # fig.add_shape(), fig.update_layout()"
      ],
      "outputs": [],
      "execution_count": null,
      "metadata": {
        "collapsed": true,
        "jupyter": {
          "source_hidden": false,
          "outputs_hidden": false
        },
        "nteract": {
          "transient": {
            "deleting": false
          }
        },
        "execution": {
          "iopub.status.busy": "2021-01-13T21:11:01.077Z",
          "iopub.execute_input": "2021-01-13T21:11:01.087Z",
          "iopub.status.idle": "2021-01-13T21:11:02.037Z",
          "shell.execute_reply": "2021-01-13T21:11:02.081Z"
        }
      }
    },
    {
      "cell_type": "code",
      "source": [
        "# Define Inputs\n",
        "dir_output = Path('/Users/JULIEN/GD/ACLS/TM1/OUTPUT/accelerometer') \n",
        "\n",
        "# INPUTS FOR LEFT L\n",
        "filename_L = '001L_acc_during_morton.csv' \n",
        "csv_L = dir_output / filename_L\n",
        "acc_L = pd.read_csv(csv_L, sep=';')\n",
        "ID_L = filename_L[0:4] # extract ID_L\n",
        "dates_L = [date for date in acc_L.date.unique()] # contained dates for L\n",
        "\n",
        "# INPUTS FOR RIGHT R\n",
        "filename_R = '001R_acc_during_morton.csv' \n",
        "csv_R = dir_output / filename_R\n",
        "acc_R = pd.read_csv(csv_R, sep=';')\n",
        "ID_R = filename_R[0:4] # extract ID_R\n",
        "dates_R = [date for date in acc_R.date.unique()] # contained dates for R\n"
      ],
      "outputs": [],
      "execution_count": null,
      "metadata": {
        "collapsed": true,
        "jupyter": {
          "source_hidden": false,
          "outputs_hidden": false
        },
        "nteract": {
          "transient": {
            "deleting": false
          }
        },
        "execution": {
          "iopub.status.busy": "2021-01-13T21:21:58.432Z",
          "iopub.execute_input": "2021-01-13T21:21:58.486Z",
          "iopub.status.idle": "2021-01-13T21:22:00.831Z",
          "shell.execute_reply": "2021-01-13T21:22:00.807Z"
        }
      }
    },
    {
      "cell_type": "markdown",
      "source": [
        "#### Plot: Every row of df is plotted --> Due to overplotting of 50 values on 1 x-value, max and min value are displayed."
      ],
      "metadata": {
        "nteract": {
          "transient": {
            "deleting": false
          }
        }
      }
    },
    {
      "cell_type": "markdown",
      "source": [
        "Plot Date 1 Left\n",
        "(code in next cell is hidden)"
      ],
      "metadata": {
        "nteract": {
          "transient": {
            "deleting": false
          }
        }
      }
    },
    {
      "cell_type": "code",
      "source": [
        "# Date 1 LEFT\n",
        "\n",
        "# Filter by date\n",
        "date = dates_L[0]\n",
        "df = acc_L[acc_L.date == date]\n",
        "\n",
        "# Start & end of Morton Excercises\n",
        "df_morton =  df[df.de_morton.notnull()]\n",
        "morton_start = df_morton.date_time.min()\n",
        "morton_end = df_morton.date_time.max()\n",
        "\n",
        "# PLOT\n",
        "fig = px.line(df, x='date_time', y=['AX', 'AY', 'AZ'])\n",
        "\n",
        "# add line for duration of all Morton Excercises\n",
        "fig.add_shape(type=\"line\", x0=morton_start, y0=-500, x1=morton_end, y1=-500,\n",
        "              line=dict(color=\"LightSeaGreen\", width=4, dash=\"dashdot\"))\n",
        "\n",
        "# Layout\n",
        "fig.update_layout(title= f\"Accelerometer during De Morton Exercises: {date}. {ID_L}\")\n",
        "\n",
        "fig.show()"
      ],
      "outputs": [],
      "execution_count": null,
      "metadata": {
        "collapsed": true,
        "jupyter": {
          "source_hidden": true,
          "outputs_hidden": false
        },
        "nteract": {
          "transient": {
            "deleting": false
          }
        },
        "execution": {
          "iopub.status.busy": "2021-01-13T22:31:34.228Z",
          "iopub.execute_input": "2021-01-13T22:31:34.305Z",
          "shell.execute_reply": "2021-01-13T22:31:45.176Z",
          "iopub.status.idle": "2021-01-13T22:31:45.165Z"
        }
      }
    },
    {
      "cell_type": "markdown",
      "source": [
        "Plot Date 1 Right\n",
        "(code in next cell is hidden)"
      ],
      "metadata": {
        "nteract": {
          "transient": {
            "deleting": false
          }
        }
      }
    },
    {
      "cell_type": "code",
      "source": [
        "# Date 1 RIGHT\n",
        "\n",
        "# Filter by date\n",
        "date = dates_R[0]\n",
        "df = acc_R[acc_R.date == date]\n",
        "\n",
        "# Start & end of Morton Excercises\n",
        "df_morton =  df[df.de_morton.notnull()]\n",
        "morton_start = df_morton.date_time.min()\n",
        "morton_end = df_morton.date_time.max()\n",
        "\n",
        "# PLOT\n",
        "fig = px.line(df, x='date_time', y=['AX', 'AY', 'AZ'])\n",
        "\n",
        "# add line for duration of all Morton Excercises\n",
        "fig.add_shape(type=\"line\", x0=morton_start, y0=-500, x1=morton_end, y1=-500,\n",
        "              line=dict(color=\"LightSeaGreen\", width=4, dash=\"dashdot\"))\n",
        "\n",
        "# Layout\n",
        "fig.update_layout(title= f\"Accelerometer during De Morton Exercises: {date}. {ID_R}\")\n",
        "\n",
        "fig.show()"
      ],
      "outputs": [],
      "execution_count": null,
      "metadata": {
        "collapsed": true,
        "jupyter": {
          "source_hidden": true,
          "outputs_hidden": false
        },
        "nteract": {
          "transient": {
            "deleting": false
          }
        },
        "execution": {
          "iopub.status.busy": "2021-01-13T21:22:03.530Z",
          "iopub.execute_input": "2021-01-13T21:22:03.544Z",
          "iopub.status.idle": "2021-01-13T21:22:16.138Z",
          "shell.execute_reply": "2021-01-13T21:22:12.591Z"
        }
      }
    },
    {
      "cell_type": "markdown",
      "source": [
        "#### Plot: Take mean of AX,AY,AZ for each second. All 50 values per sec get aggregated."
      ],
      "metadata": {
        "nteract": {
          "transient": {
            "deleting": false
          }
        }
      }
    },
    {
      "cell_type": "markdown",
      "source": [
        "Plot Date 1 Left\n",
        "(code in next cell is hidden)"
      ],
      "metadata": {
        "nteract": {
          "transient": {
            "deleting": false
          }
        }
      }
    },
    {
      "cell_type": "code",
      "source": [
        "# Date 1 LEFT\n",
        "\n",
        "# Filter by date\n",
        "date = dates_L[0]\n",
        "df = acc_L[acc_L.date == date]\n",
        "\n",
        "# Start & end of Morton Excercises\n",
        "df_morton =  df[df.de_morton.notnull()]\n",
        "morton_start = df_morton.date_time.min()\n",
        "morton_end = df_morton.date_time.max()\n",
        "\n",
        "### AGGREGATE BY SECOND AND CALCULATE MEANS\n",
        "grouped = df.groupby([df.date_time])\n",
        "df_agg = grouped.mean()\n",
        "\n",
        "# PLOT\n",
        "fig = px.line(df_agg, x=df_agg.index, y=['AX', 'AY', 'AZ'])\n",
        "\n",
        "# add line for duration of all Morton Excercises\n",
        "fig.add_shape(type=\"line\", x0=morton_start, y0=-500, x1=morton_end, y1=-500,\n",
        "              line=dict(color=\"LightSeaGreen\", width=4, dash=\"dashdot\"))\n",
        "\n",
        "# Layout\n",
        "fig.update_layout(title= f\"Accelerometer during De Morton Exercises: {date}. {ID_L}\")\n",
        "\n",
        "fig.show()"
      ],
      "outputs": [],
      "execution_count": null,
      "metadata": {
        "collapsed": true,
        "jupyter": {
          "source_hidden": true,
          "outputs_hidden": false
        },
        "nteract": {
          "transient": {
            "deleting": false
          }
        },
        "execution": {
          "iopub.status.busy": "2021-01-13T22:37:59.704Z",
          "iopub.execute_input": "2021-01-13T22:37:59.747Z",
          "iopub.status.idle": "2021-01-13T22:38:01.496Z",
          "shell.execute_reply": "2021-01-13T22:38:01.518Z"
        }
      }
    },
    {
      "cell_type": "markdown",
      "source": [
        "Plot Date 1 Right\n",
        "(code in next cell is hidden)\n"
      ],
      "metadata": {
        "nteract": {
          "transient": {
            "deleting": false
          }
        }
      }
    },
    {
      "cell_type": "code",
      "source": [
        "# Date 1 RIGHT\n",
        "\n",
        "# Filter by date\n",
        "date = dates_R[0]\n",
        "df = acc_R[acc_R.date == date]\n",
        "\n",
        "# Start & end of Morton Excercises\n",
        "df_morton =  df[df.de_morton.notnull()]\n",
        "morton_start = df_morton.date_time.min()\n",
        "morton_end = df_morton.date_time.max()\n",
        "\n",
        "### AGGREGATE BY SECOND AND CALCULATE MEANS\n",
        "grouped = df.groupby([df.date_time])\n",
        "df_agg = grouped.mean()\n",
        "\n",
        "# PLOT\n",
        "fig = px.line(df_agg, x=df_agg.index, y=['AX', 'AY', 'AZ'])\n",
        "\n",
        "# add line for duration of all Morton Excercises\n",
        "fig.add_shape(type=\"line\", x0=morton_start, y0=-500, x1=morton_end, y1=-500,\n",
        "              line=dict(color=\"LightSeaGreen\", width=4, dash=\"dashdot\"))\n",
        "\n",
        "# Layout\n",
        "fig.update_layout(title= f\"Accelerometer during De Morton Exercises: {date}. {ID_R}\")\n",
        "\n",
        "fig.show()"
      ],
      "outputs": [],
      "execution_count": null,
      "metadata": {
        "collapsed": true,
        "jupyter": {
          "source_hidden": true,
          "outputs_hidden": false
        },
        "nteract": {
          "transient": {
            "deleting": false
          }
        },
        "execution": {
          "iopub.status.busy": "2021-01-13T22:43:47.390Z",
          "iopub.execute_input": "2021-01-13T22:43:47.406Z",
          "shell.execute_reply": "2021-01-13T22:43:48.234Z",
          "iopub.status.idle": "2021-01-13T22:43:48.191Z"
        }
      }
    },
    {
      "cell_type": "code",
      "source": [
        "# continue here"
      ],
      "outputs": [],
      "execution_count": null,
      "metadata": {
        "collapsed": true,
        "jupyter": {
          "source_hidden": false,
          "outputs_hidden": false
        },
        "nteract": {
          "transient": {
            "deleting": false
          }
        }
      }
    },
    {
      "cell_type": "code",
      "source": [],
      "outputs": [],
      "execution_count": null,
      "metadata": {
        "collapsed": true,
        "jupyter": {
          "source_hidden": false,
          "outputs_hidden": false
        },
        "nteract": {
          "transient": {
            "deleting": false
          }
        }
      }
    }
  ],
  "metadata": {
    "hide_input": false,
    "kernelspec": {
      "display_name": "Python 3",
      "language": "python",
      "name": "python3"
    },
    "language_info": {
      "name": "python",
      "version": "3.8.3",
      "mimetype": "text/x-python",
      "codemirror_mode": {
        "name": "ipython",
        "version": 3
      },
      "pygments_lexer": "ipython3",
      "nbconvert_exporter": "python",
      "file_extension": ".py"
    },
    "nteract": {
      "version": "0.27.0"
    }
  },
  "nbformat": 4,
  "nbformat_minor": 2
}